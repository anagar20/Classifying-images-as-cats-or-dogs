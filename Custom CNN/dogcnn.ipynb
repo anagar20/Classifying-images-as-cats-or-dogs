{
 "cells": [
  {
   "cell_type": "code",
   "execution_count": 38,
   "metadata": {
    "collapsed": false
   },
   "outputs": [],
   "source": [
    "import tensorflow as tf\n",
    "import numpy as np\n",
    "import matplotlib.pyplot as plt\n",
    "import matplotlib\n",
    "import os\n",
    "from PIL import Image\n",
    "from numpy import *"
   ]
  },
  {
   "cell_type": "code",
   "execution_count": 39,
   "metadata": {
    "collapsed": false
   },
   "outputs": [
    {
     "name": "stdout",
     "output_type": "stream",
     "text": [
      "['trainlabel', 'imgsize', 'trainimg', 'testimg', 'testlabel', 'use_gray']\n",
      "15000 train images loaded\n",
      "10000 test images loaded\n",
      "784 dimensional input\n",
      "Image size is [28 28]\n",
      "2 classes\n"
     ]
    }
   ],
   "source": [
    "cwd = os.getcwd()\n",
    "loadpath = cwd + \"/data/custom_data.npz\"\n",
    "l = np.load(loadpath)\n",
    "\n",
    "# See what's in here\n",
    "print (l.files)\n",
    "\n",
    "# Parse data\n",
    "trainimg = l['trainimg']\n",
    "trainlabel = l['trainlabel']\n",
    "testimg = l['testimg']\n",
    "testlabel = l['testlabel']\n",
    "imgsize = l['imgsize']\n",
    "use_gray = l['use_gray']\n",
    "ntrain = trainimg.shape[0]\n",
    "nclass = trainlabel.shape[1]\n",
    "dim    = trainimg.shape[1]\n",
    "ntest  = testimg.shape[0]\n",
    "print (\"%d train images loaded\" % (ntrain))\n",
    "print (\"%d test images loaded\" % (ntest))\n",
    "print (\"%d dimensional input\" % (dim))\n",
    "print (\"Image size is %s\" % (imgsize))\n",
    "print (\"%d classes\" % (nclass))"
   ]
  },
  {
   "cell_type": "code",
   "execution_count": 40,
   "metadata": {
    "collapsed": true
   },
   "outputs": [],
   "source": [
    "n_classes = 2\n",
    "batch_size = 128\n",
    "\n",
    "x = tf.placeholder(tf.float32, shape=[None, 784])\n",
    "y = tf.placeholder(tf.float32, shape=[None, 2])\n",
    "keep_prob = tf.placeholder(tf.float32)\n",
    "\n",
    "def conv2d(x,W):\n",
    "    return tf.nn.conv2d(x,W, strides=[1,1,1,1], padding='SAME')\n",
    "\n",
    "def maxpool2d(x):\n",
    "    return tf.nn.max_pool(x,ksize=[1,2,2,1], strides=[1,2,2,1], padding='SAME')\n",
    "\n",
    "\n",
    "\n",
    "def convolutional_neural_network(x):\n",
    "    weights = {'W_conv1':tf.Variable(tf.random_normal([5,5,1,32])),\n",
    "               'W_conv2':tf.Variable(tf.random_normal([5,5,32,64])),\n",
    "             #  'W_conv3':tf.Variable(tf.random_normal([5,5,64,128])),\n",
    "              # 'W_conv4':tf.Variable(tf.random_normal([5,5,128,256])),\n",
    "               'W_fc':tf.Variable(tf.random_normal([7*7*64,1024])),\n",
    "               'out':tf.Variable(tf.random_normal([1024,n_classes]))}\n",
    "                      \n",
    "    biases =  {'b_conv1':tf.Variable(tf.random_normal([32])),\n",
    "               'b_conv2':tf.Variable(tf.random_normal([64])),\n",
    "               #'b_conv3':tf.Variable(tf.random_normal([128])),\n",
    "               #'b_conv4':tf.Variable(tf.random_normal([256])),\n",
    "               'b_fc':tf.Variable(tf.random_normal([1024])),\n",
    "               'out':tf.Variable(tf.random_normal([n_classes]))}\n",
    "               \n",
    "    x = tf.reshape(x, shape=[-1,112,112,1])\n",
    "    \n",
    "    conv1 = tf.nn.relu(conv2d(x,weights['W_conv1'])+biases['b_conv1'])\n",
    "    conv1 = maxpool2d(conv1)\n",
    "    \n",
    "    conv2 = tf.nn.relu(conv2d(conv1,weights['W_conv2'])+biases['b_conv2'])\n",
    "    conv2 = maxpool2d(conv2)\n",
    "\n",
    "    #conv3 = tf.nn.relu(conv2d(conv2,weights['W_conv3'])+biases['b_conv3'])\n",
    "    # conv3 = maxpool2d(conv3)\n",
    "\n",
    "    #conv4 = tf.nn.relu(conv2d(conv3,weights['W_conv4'])+biases['b_conv4'])\n",
    "    #conv4 = maxpool2d(conv4)\n",
    "    \n",
    "    fc = tf.reshape(conv2, [-1,7*7*64])\n",
    "    fc = tf.nn.relu(tf.matmul(fc,weights['W_fc'])+biases['b_fc'])\n",
    "    \n",
    "    h_fc1_drop = tf.nn.dropout(fc, keep_prob)\n",
    "\n",
    "    output = tf.matmul(h_fc1_drop , weights['out'])+biases['out']\n",
    "    \n",
    "    return output\n"
   ]
  },
  {
   "cell_type": "code",
   "execution_count": 41,
   "metadata": {
    "collapsed": true
   },
   "outputs": [],
   "source": [
    "def train_neural_network(x):\n",
    "    prediction = convolutional_neural_network(x)\n",
    "    cost = tf.reduce_mean(tf.nn.softmax_cross_entropy_with_logits(logits=prediction,labels=y))\n",
    "    optimizer = tf.train.AdamOptimizer().minimize(cost)\n",
    "        \n",
    "    hm_epochs = 10\n",
    "    \n",
    "    with tf.Session() as sess:\n",
    "        sess.run(tf.initialize_all_variables())\n",
    "        \n",
    "        for epoch in range(hm_epochs):\n",
    "            epoch_loss = 0\n",
    "            num_batch = int(ntrain/batch_size)+1\n",
    "            for _ in range(num_batch):\n",
    "                randidx = np.random.randint(ntrain, size=batch_size)\n",
    "                epoch_x,epoch_y = trainimg[randidx, :],trainlabel[randidx, :]\n",
    "                _,c = sess.run([optimizer,cost], feed_dict = {x:epoch_x,y:epoch_y,keep_prob: 0.5})\n",
    "                epoch_loss+=c\n",
    "            print('Epoch', epoch, 'completed out of', hm_epochs,'loss',epoch_loss)\n",
    "                \n",
    "        correct = tf.equal(tf.argmax(prediction,1), tf.argmax(y,1))\n",
    "        accuracy = tf.reduce_mean(tf.cast(correct, tf.float32))\n",
    "        print('Accuracy:', accuracy.eval({x:testimg, y :testlabel,keep_prob: 1.0}))"
   ]
  },
  {
   "cell_type": "code",
   "execution_count": 42,
   "metadata": {
    "collapsed": false
   },
   "outputs": [
    {
     "name": "stdout",
     "output_type": "stream",
     "text": [
      "WARNING:tensorflow:From <ipython-input-41-786732c6107c>:9: initialize_all_variables (from tensorflow.python.ops.variables) is deprecated and will be removed after 2017-03-02.\n",
      "Instructions for updating:\n",
      "Use `tf.global_variables_initializer` instead.\n",
      "('Epoch', 0, 'completed out of', 10, 'loss', 3434299.7177734375)\n",
      "('Epoch', 1, 'completed out of', 10, 'loss', 1036310.2841796875)\n",
      "('Epoch', 2, 'completed out of', 10, 'loss', 527248.65283203125)\n",
      "('Epoch', 3, 'completed out of', 10, 'loss', 322246.65478515625)\n",
      "('Epoch', 4, 'completed out of', 10, 'loss', 209481.68200683594)\n",
      "('Epoch', 5, 'completed out of', 10, 'loss', 148878.95721435547)\n",
      "('Epoch', 6, 'completed out of', 10, 'loss', 79997.593414306641)\n",
      "('Epoch', 7, 'completed out of', 10, 'loss', 37924.544906616211)\n",
      "('Epoch', 8, 'completed out of', 10, 'loss', 23115.324295043945)\n",
      "('Epoch', 9, 'completed out of', 10, 'loss', 14987.26305770874)\n",
      "('Accuracy:', 0.52770001)\n"
     ]
    }
   ],
   "source": [
    "train_neural_network(x)"
   ]
  },
  {
   "cell_type": "code",
   "execution_count": null,
   "metadata": {
    "collapsed": true
   },
   "outputs": [],
   "source": []
  }
 ],
 "metadata": {
  "kernelspec": {
   "display_name": "Python 2",
   "language": "python",
   "name": "python2"
  },
  "language_info": {
   "codemirror_mode": {
    "name": "ipython",
    "version": 2
   },
   "file_extension": ".py",
   "mimetype": "text/x-python",
   "name": "python",
   "nbconvert_exporter": "python",
   "pygments_lexer": "ipython2",
   "version": "2.7.13"
  }
 },
 "nbformat": 4,
 "nbformat_minor": 2
}
